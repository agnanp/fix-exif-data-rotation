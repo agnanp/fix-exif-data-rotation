{
 "cells": [
  {
   "cell_type": "code",
   "execution_count": 1,
   "metadata": {},
   "outputs": [],
   "source": [
    "from PIL import Image, ExifTags\n",
    "import os\n",
    "import shutil\n",
    "import os\n",
    "import glob\n",
    "import subprocess"
   ]
  },
  {
   "cell_type": "markdown",
   "metadata": {},
   "source": [
    "## Memisahkan file yang perlu dirotate"
   ]
  },
  {
   "cell_type": "code",
   "execution_count": null,
   "metadata": {},
   "outputs": [],
   "source": [
    "data_path = os.path.join(\"./baru/\",'*.xml')\n",
    "files = sorted(glob.glob(data_path))\n",
    "\n",
    "for f1 in files:\n",
    "#    head, tail = os.path.split(f1)\n",
    "    nameImg = os.path.splitext(f1)[0]\n",
    "    pathImg = ((\"{}.jpg\").format(nameImg))\n",
    "   # print(pathImg)\n",
    "    try:\n",
    "        image=Image.open(pathImg)\n",
    "        for orientation in ExifTags.TAGS.keys():\n",
    "            if ExifTags.TAGS[orientation]=='Orientation':\n",
    "                break\n",
    "        exif=dict(image._getexif().items())\n",
    "\n",
    "        if exif[orientation] == 1:\n",
    "            print(\"or1\")\n",
    "            shutil.move(f1, \"./output/1\")\n",
    "            shutil.move(pathImg, \"./output/1\")\n",
    "        #image=image.rotate(180, expand=True)\n",
    "        elif exif[orientation] == 2:\n",
    "            print(\"or2\")\n",
    "            shutil.move(f1, \"./output/2\")\n",
    "            shutil.move(pathImg, \"./output/2\")\n",
    "        #image=image.rotate(270, expand=True)\n",
    "        elif exif[orientation] == 3:\n",
    "            print(\"or3\")\n",
    "            shutil.move(f1, \"./output/3\")\n",
    "            shutil.move(pathImg, \"./output/3\")\n",
    "        elif exif[orientation] == 4:\n",
    "            print(\"or4\")\n",
    "            shutil.move(f1, \"./output/4\")\n",
    "            shutil.move(pathImg, \"./output/4\")\n",
    "        elif exif[orientation] == 5:\n",
    "            print(\"or5\")\n",
    "            shutil.move(f1, \"./output/5\")\n",
    "            shutil.move(pathImg, \"./output/5\")\n",
    "        elif exif[orientation] == 6:\n",
    "            print(\"or6\")\n",
    "            shutil.move(f1, \"./output/6\")\n",
    "            shutil.move(pathImg, \"./output/6\")\n",
    "        elif exif[orientation] == 7:\n",
    "            print(\"or7\")\n",
    "            shutil.move(f1, \"./output/7\")\n",
    "            shutil.move(pathImg, \"./output/7\")\n",
    "        elif exif[orientation] == 8:\n",
    "            print(\"or8\")\n",
    "            shutil.move(f1, \"./output/8\")\n",
    "            shutil.move(pathImg, \"./output/8\")\n",
    "        #image=image.rotate(90, expand=True)\n",
    " #   image.save(\"./test/test.jpg\")\n",
    "        image.close()\n",
    "        \n",
    "    except (AttributeError, KeyError, IndexError):\n",
    "    # cases: image don't have getexif\n",
    "        pass"
   ]
  },
  {
   "cell_type": "markdown",
   "metadata": {},
   "source": [
    "## Fix Rotate ke top-left"
   ]
  },
  {
   "cell_type": "code",
   "execution_count": 3,
   "metadata": {},
   "outputs": [
    {
     "name": "stdout",
     "output_type": "stream",
     "text": [
      "or3\n",
      "or3\n",
      "or3\n",
      "or3\n",
      "or3\n",
      "or3\n",
      "or3\n",
      "or3\n",
      "or3\n",
      "or3\n",
      "or3\n",
      "or3\n",
      "or3\n",
      "or3\n",
      "or3\n",
      "or3\n",
      "or3\n",
      "or3\n",
      "or3\n",
      "or3\n",
      "or3\n"
     ]
    }
   ],
   "source": [
    "data_path = os.path.join(\"./output/3\",'*.jpg')\n",
    "files = sorted(glob.glob(data_path))\n",
    "\n",
    "for f1 in files:\n",
    "    try:\n",
    "        image=Image.open(f1)\n",
    "        for orientation in ExifTags.TAGS.keys():\n",
    "            if ExifTags.TAGS[orientation]=='Orientation':\n",
    "                break\n",
    "        exif=dict(image._getexif().items())\n",
    "\n",
    "        if exif[orientation] == 1:\n",
    "            print(\"or1\")\n",
    "            subprocess.run([\"convert\", f1, \"-orient\", \"top-left\", f1])\n",
    "        elif exif[orientation] == 2:\n",
    "            print(\"or2\")\n",
    "            subprocess.run([\"convert\", f1, \"-orient\", \"top-left\", f1])\n",
    "        elif exif[orientation] == 3:\n",
    "            print(\"or3\")\n",
    "            subprocess.run([\"convert\", f1, \"-orient\", \"top-left\", f1])\n",
    "        elif exif[orientation] == 4:\n",
    "            print(\"or4\")\n",
    "            subprocess.run([\"convert\", f1, \"-orient\", \"top-left\", f1])\n",
    "        elif exif[orientation] == 5:\n",
    "            print(\"or5\")\n",
    "            subprocess.run([\"convert\", f1, \"-orient\", \"top-left\", f1])\n",
    "        elif exif[orientation] == 6:\n",
    "            print(\"or6\")\n",
    "            subprocess.run([\"convert\", f1, \"-orient\", \"top-left\", f1]) #convert *jpg -orient top-left ./out/\n",
    "        elif exif[orientation] == 7:\n",
    "            print(\"or7\")\n",
    "            subprocess.run([\"convert\", f1, \"-orient\", \"top-left\", f1])\n",
    "        elif exif[orientation] == 8:\n",
    "            print(\"or8\")\n",
    "            subprocess.run([\"convert\", f1, \"-orient\", \"top-left\", f1])\n",
    "        image.close()\n",
    "        \n",
    "    except (AttributeError, KeyError, IndexError):\n",
    "    # cases: image don't have getexif\n",
    "        pass"
   ]
  },
  {
   "cell_type": "code",
   "execution_count": null,
   "metadata": {},
   "outputs": [],
   "source": []
  },
  {
   "cell_type": "code",
   "execution_count": null,
   "metadata": {},
   "outputs": [],
   "source": []
  },
  {
   "cell_type": "code",
   "execution_count": null,
   "metadata": {},
   "outputs": [],
   "source": [
    " "
   ]
  },
  {
   "cell_type": "code",
   "execution_count": null,
   "metadata": {},
   "outputs": [],
   "source": []
  }
 ],
 "metadata": {
  "kernelspec": {
   "display_name": "Python 3",
   "language": "python",
   "name": "python3"
  },
  "language_info": {
   "codemirror_mode": {
    "name": "ipython",
    "version": 3
   },
   "file_extension": ".py",
   "mimetype": "text/x-python",
   "name": "python",
   "nbconvert_exporter": "python",
   "pygments_lexer": "ipython3",
   "version": "3.5.2"
  }
 },
 "nbformat": 4,
 "nbformat_minor": 2
}
